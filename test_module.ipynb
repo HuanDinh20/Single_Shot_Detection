{
 "cells": [
  {
   "cell_type": "code",
   "execution_count": 4,
   "outputs": [],
   "source": [
    "import torch\n",
    "from torch import nn\n",
    "from torchvision.models import vgg16\n",
    "\n",
    "\n",
    "class SSD(nn.Module):\n",
    "    def __init__(self):\n",
    "        super(SSD, self).__init__()\n",
    "        self.base_network = self.base_net()\n",
    "\n",
    "    def forward(self, X):\n",
    "        return self.base_network(X)\n",
    "\n",
    "    @staticmethod\n",
    "    def base_net():\n",
    "        net = vgg16(weights=False).features\n",
    "        return net"
   ],
   "metadata": {
    "collapsed": false,
    "pycharm": {
     "name": "#%%\n"
    }
   }
  },
  {
   "cell_type": "code",
   "execution_count": 5,
   "outputs": [
    {
     "data": {
      "text/plain": "tensor([[[[0.1190, 0.0635, 0.0713],\n          [0.0953, 0.0482, 0.0466],\n          [0.0421, 0.0000, 0.0000]],\n\n         [[0.0000, 0.0790, 0.0946],\n          [0.0000, 0.0812, 0.0827],\n          [0.0571, 0.1145, 0.1117]],\n\n         [[0.0000, 0.0000, 0.0000],\n          [0.0000, 0.0000, 0.0000],\n          [0.0000, 0.0415, 0.0237]],\n\n         ...,\n\n         [[0.0681, 0.0727, 0.0612],\n          [0.1037, 0.1705, 0.1140],\n          [0.1558, 0.2217, 0.1867]],\n\n         [[0.0074, 0.0730, 0.0639],\n          [0.0000, 0.0103, 0.0317],\n          [0.0000, 0.0357, 0.0725]],\n\n         [[0.0000, 0.0000, 0.0262],\n          [0.0613, 0.0589, 0.0473],\n          [0.1228, 0.1786, 0.2209]]]], grad_fn=<MaxPool2DWithIndicesBackward0>)"
     },
     "execution_count": 5,
     "metadata": {},
     "output_type": "execute_result"
    }
   ],
   "source": [
    "model = SSD()\n",
    "X = torch.rand(1, 3, 96, 96)\n",
    "model(X)"
   ],
   "metadata": {
    "collapsed": false,
    "pycharm": {
     "name": "#%%\n"
    }
   }
  },
  {
   "cell_type": "code",
   "execution_count": 6,
   "outputs": [
    {
     "data": {
      "text/plain": "['T_destination',\n '__annotations__',\n '__call__',\n '__class__',\n '__delattr__',\n '__dict__',\n '__dir__',\n '__doc__',\n '__eq__',\n '__format__',\n '__ge__',\n '__getattr__',\n '__getattribute__',\n '__gt__',\n '__hash__',\n '__init__',\n '__init_subclass__',\n '__le__',\n '__lt__',\n '__module__',\n '__ne__',\n '__new__',\n '__reduce__',\n '__reduce_ex__',\n '__repr__',\n '__setattr__',\n '__setstate__',\n '__sizeof__',\n '__str__',\n '__subclasshook__',\n '__weakref__',\n '_apply',\n '_backward_hooks',\n '_buffers',\n '_call_impl',\n '_forward_hooks',\n '_forward_pre_hooks',\n '_get_backward_hooks',\n '_get_name',\n '_is_full_backward_hook',\n '_load_from_state_dict',\n '_load_state_dict_post_hooks',\n '_load_state_dict_pre_hooks',\n '_maybe_warn_non_full_backward_hook',\n '_modules',\n '_named_members',\n '_non_persistent_buffers_set',\n '_parameters',\n '_register_load_state_dict_pre_hook',\n '_register_state_dict_hook',\n '_replicate_for_data_parallel',\n '_save_to_state_dict',\n '_slow_forward',\n '_state_dict_hooks',\n '_version',\n 'add_module',\n 'apply',\n 'base_net',\n 'base_network',\n 'bfloat16',\n 'buffers',\n 'children',\n 'cpu',\n 'cuda',\n 'double',\n 'dump_patches',\n 'eval',\n 'extra_repr',\n 'float',\n 'forward',\n 'get_buffer',\n 'get_extra_state',\n 'get_parameter',\n 'get_submodule',\n 'half',\n 'ipu',\n 'load_state_dict',\n 'modules',\n 'named_buffers',\n 'named_children',\n 'named_modules',\n 'named_parameters',\n 'parameters',\n 'register_backward_hook',\n 'register_buffer',\n 'register_forward_hook',\n 'register_forward_pre_hook',\n 'register_full_backward_hook',\n 'register_load_state_dict_post_hook',\n 'register_module',\n 'register_parameter',\n 'requires_grad_',\n 'set_extra_state',\n 'share_memory',\n 'state_dict',\n 'to',\n 'to_empty',\n 'train',\n 'training',\n 'type',\n 'xpu',\n 'zero_grad']"
     },
     "execution_count": 6,
     "metadata": {},
     "output_type": "execute_result"
    }
   ],
   "source": [
    "model.__dir__()"
   ],
   "metadata": {
    "collapsed": false,
    "pycharm": {
     "name": "#%%\n"
    }
   }
  },
  {
   "cell_type": "code",
   "execution_count": 7,
   "outputs": [],
   "source": [
    "import torch\n",
    "from torch import nn\n",
    "from torchvision.models import vgg16\n",
    "from utils import get_multi_anchor_prior\n",
    "\n",
    "\n",
    "class SSD(nn.Module):\n",
    "    def __init__(self, num_classes, **kwargs):\n",
    "        super(SSD, self).__init__()\n",
    "        self.base_network = self.base_net()\n",
    "        self.net = nn.Sequential()\n",
    "        self.num_classes = num_classes\n",
    "        self.sizes = [[0.2, 0.272], [0.37, 0.447], [0.54, 0.619], [0.71, 0.79], [0.88, 0.961]]\n",
    "        self.ratios = [[1, 2, 0.5]] * 5\n",
    "        self.num_anchors = len(self.sizes[0]) + len(self.ratios[0]) - 1\n",
    "        for i in range(5):\n",
    "            setattr(self, f\"blk_{i}\" , self.get_blk(i))\n",
    "            setattr(self,f'cls_{i}', self.cls_predictor(num_classes=self.num_classes,\n",
    "                                                               num_anchors=self.num_anchors))\n",
    "            setattr(self, f'bbox_{i}', self.bbox_predictor(self.num_anchors))\n",
    "\n",
    "    def forward(self, X):\n",
    "        anchors, cls_preds, bbox_preds = [None] * 5, [None] * 5, [None] * 5\n",
    "        for i in range(5):\n",
    "            X, anchors[i], cls_preds[i], bbox_preds[i] = self.blk_forward(\n",
    "                X, getattr(self, f\"blk_{i}\"), self.sizes[i], self.ratios[i],\n",
    "                getattr(self, f\"cls_{i}\"), getattr(self, f\"bbox_{i}\"))\n",
    "\n",
    "        anchors = torch.cat(anchors, dim=1)\n",
    "        cls_preds = self.concat_preds(cls_preds)\n",
    "        cls_preds = cls_preds.reshape(cls_preds.shape[0], -1, self.num_classes + 1)\n",
    "        bbox_preds = self.concat_preds(bbox_preds)\n",
    "        return anchors, cls_preds, bbox_preds\n",
    "\n",
    "    @staticmethod\n",
    "    def base_net():\n",
    "        \"\"\"\n",
    "        VGG16 contains 3 block:\n",
    "        VGG16 = Features + avgpoll + classifier\n",
    "        for this project, I just want to use the features block\n",
    "        \"\"\"\n",
    "        net = vgg16(pretrained=False).features\n",
    "        return net\n",
    "\n",
    "    @staticmethod\n",
    "    def cls_predictor(num_anchors, num_classes):\n",
    "        return nn.LazyConv2d(num_anchors * (num_classes + 1), kernel_size=3, padding=1)\n",
    "\n",
    "    @staticmethod\n",
    "    def bbox_predictor(num_anchors):\n",
    "        return nn.LazyConv2d(num_anchors * 4, kernel_size=3, padding=1)\n",
    "\n",
    "    @staticmethod\n",
    "    def small_forward(x, block):\n",
    "        return block(x)\n",
    "\n",
    "    @staticmethod\n",
    "    def flatten_pred(pred):\n",
    "        return torch.flatten(pred.permute(0, 2, 3, 1), start_dim=1)\n",
    "\n",
    "    @classmethod\n",
    "    def concat_preds(cls, preds):\n",
    "        return torch.cat([cls.flatten_pred(pred) for pred in preds], dim=1)\n",
    "\n",
    "    @staticmethod\n",
    "    def down_sample_blk(out_channels):\n",
    "        blk = []\n",
    "        for _ in range(2):\n",
    "            blk.append(nn.LazyConv2d(out_channels, kernel_size=3, padding=1))\n",
    "            blk.append(nn.BatchNorm2d(out_channels))\n",
    "            blk.append(nn.ReLU())\n",
    "        blk.append(nn.MaxPool2d(kernel_size=2))\n",
    "        return nn.Sequential(*blk)\n",
    "\n",
    "    @classmethod\n",
    "    def get_blk(cls, i):\n",
    "        if i == 0:\n",
    "            blk = cls.base_net()\n",
    "        elif i == 1:\n",
    "            blk = cls.down_sample_blk(128)\n",
    "        elif i == 4:\n",
    "            blk = nn.AdaptiveAvgPool2d((1, 1))\n",
    "        else:\n",
    "            blk = cls.down_sample_blk(128)\n",
    "        return blk\n",
    "\n",
    "    @staticmethod\n",
    "    def blk_forward(X, blk, size, ratio, cls_predictor, bbox_predictor):\n",
    "        Y = blk(X)\n",
    "        anchors = get_multi_anchor_prior(Y, sizes=size, ratios=ratio)\n",
    "        cls_preds = cls_predictor(Y)\n",
    "        bbox_preds = bbox_predictor(Y)\n",
    "        return Y, anchors, cls_preds, bbox_preds\n"
   ],
   "metadata": {
    "collapsed": false,
    "pycharm": {
     "name": "#%%\n"
    }
   }
  },
  {
   "cell_type": "code",
   "execution_count": 8,
   "outputs": [
    {
     "name": "stderr",
     "output_type": "stream",
     "text": [
      "A:\\huan_shit\\Study_Shit\\Deep_Learning\\Dive_into_Deep_Learning\\venv\\lib\\site-packages\\torch\\functional.py:478: UserWarning: torch.meshgrid: in an upcoming release, it will be required to pass the indexing argument. (Triggered internally at  C:\\cb\\pytorch_1000000000000\\work\\aten\\src\\ATen\\native\\TensorShape.cpp:2895.)\n",
      "  return _VF.meshgrid(tensors, **kwargs)  # type: ignore[attr-defined]\n"
     ]
    }
   ],
   "source": [
    "net = SSD(num_classes=1)\n",
    "X = torch.zeros((32, 3, 256, 256))\n",
    "anchors, cls_preds, bbox_preds = net(X)"
   ],
   "metadata": {
    "collapsed": false,
    "pycharm": {
     "name": "#%%\n"
    }
   }
  },
  {
   "cell_type": "code",
   "execution_count": 9,
   "outputs": [
    {
     "data": {
      "text/plain": "tensor([[[-0.0375, -0.0375,  0.1625,  0.1625],\n         [-0.0735, -0.0735,  0.1985,  0.1985],\n         [-0.0789, -0.0082,  0.2039,  0.1332],\n         ...,\n         [ 0.0195,  0.0195,  0.9805,  0.9805],\n         [-0.1223,  0.1889,  1.1223,  0.8111],\n         [ 0.1889, -0.1223,  0.8111,  1.1223]]])"
     },
     "execution_count": 9,
     "metadata": {},
     "output_type": "execute_result"
    }
   ],
   "source": [
    "anchors"
   ],
   "metadata": {
    "collapsed": false,
    "pycharm": {
     "name": "#%%\n"
    }
   }
  },
  {
   "cell_type": "code",
   "execution_count": 10,
   "outputs": [
    {
     "data": {
      "text/plain": "tensor([[[ 0.0052,  0.0053],\n         [-0.0139,  0.0142],\n         [-0.0073,  0.0133],\n         ...,\n         [ 0.0099, -0.0282],\n         [ 0.0020,  0.0154],\n         [-0.0234,  0.0217]],\n\n        [[ 0.0052,  0.0053],\n         [-0.0139,  0.0142],\n         [-0.0073,  0.0133],\n         ...,\n         [ 0.0099, -0.0282],\n         [ 0.0020,  0.0154],\n         [-0.0234,  0.0217]],\n\n        [[ 0.0052,  0.0053],\n         [-0.0139,  0.0142],\n         [-0.0073,  0.0133],\n         ...,\n         [ 0.0099, -0.0282],\n         [ 0.0020,  0.0154],\n         [-0.0234,  0.0217]],\n\n        ...,\n\n        [[ 0.0052,  0.0053],\n         [-0.0139,  0.0142],\n         [-0.0073,  0.0133],\n         ...,\n         [ 0.0099, -0.0282],\n         [ 0.0020,  0.0154],\n         [-0.0234,  0.0217]],\n\n        [[ 0.0052,  0.0053],\n         [-0.0139,  0.0142],\n         [-0.0073,  0.0133],\n         ...,\n         [ 0.0099, -0.0282],\n         [ 0.0020,  0.0154],\n         [-0.0234,  0.0217]],\n\n        [[ 0.0052,  0.0053],\n         [-0.0139,  0.0142],\n         [-0.0073,  0.0133],\n         ...,\n         [ 0.0099, -0.0282],\n         [ 0.0020,  0.0154],\n         [-0.0234,  0.0217]]], grad_fn=<ReshapeAliasBackward0>)"
     },
     "execution_count": 10,
     "metadata": {},
     "output_type": "execute_result"
    }
   ],
   "source": [
    "cls_preds"
   ],
   "metadata": {
    "collapsed": false,
    "pycharm": {
     "name": "#%%\n"
    }
   }
  },
  {
   "cell_type": "code",
   "execution_count": 11,
   "outputs": [
    {
     "data": {
      "text/plain": "tensor([[ 0.0131,  0.0065, -0.0021,  ..., -0.0264, -0.0070, -0.0232],\n        [ 0.0131,  0.0065, -0.0021,  ..., -0.0264, -0.0070, -0.0232],\n        [ 0.0131,  0.0065, -0.0021,  ..., -0.0264, -0.0070, -0.0232],\n        ...,\n        [ 0.0131,  0.0065, -0.0021,  ..., -0.0264, -0.0070, -0.0232],\n        [ 0.0131,  0.0065, -0.0021,  ..., -0.0264, -0.0070, -0.0232],\n        [ 0.0131,  0.0065, -0.0021,  ..., -0.0264, -0.0070, -0.0232]],\n       grad_fn=<CatBackward0>)"
     },
     "execution_count": 11,
     "metadata": {},
     "output_type": "execute_result"
    }
   ],
   "source": [
    "bbox_preds"
   ],
   "metadata": {
    "collapsed": false,
    "pycharm": {
     "name": "#%%\n"
    }
   }
  },
  {
   "cell_type": "code",
   "execution_count": null,
   "outputs": [],
   "source": [],
   "metadata": {
    "collapsed": false,
    "pycharm": {
     "name": "#%%\n"
    }
   }
  }
 ],
 "metadata": {
  "kernelspec": {
   "display_name": "Python 3",
   "language": "python",
   "name": "python3"
  },
  "language_info": {
   "codemirror_mode": {
    "name": "ipython",
    "version": 2
   },
   "file_extension": ".py",
   "mimetype": "text/x-python",
   "name": "python",
   "nbconvert_exporter": "python",
   "pygments_lexer": "ipython2",
   "version": "2.7.6"
  }
 },
 "nbformat": 4,
 "nbformat_minor": 0
}